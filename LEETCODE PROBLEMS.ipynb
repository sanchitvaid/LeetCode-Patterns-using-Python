{
 "cells": [
  {
   "cell_type": "code",
   "execution_count": 2,
   "id": "588168a4",
   "metadata": {},
   "outputs": [],
   "source": [
    "import numpy as np"
   ]
  },
  {
   "cell_type": "markdown",
   "id": "ee402672",
   "metadata": {},
   "source": [
    "# LEET CODE PROBLEMS"
   ]
  },
  {
   "cell_type": "markdown",
   "id": "e755873e",
   "metadata": {},
   "source": [
    "### 1929 : CONCATENATION OF ARRAYS"
   ]
  },
  {
   "cell_type": "code",
   "execution_count": 29,
   "id": "156ed3d7",
   "metadata": {},
   "outputs": [],
   "source": [
    "nums = [1,2,1]\n",
    "\n",
    "#SOLUTION : 1\n",
    "\n",
    "nums.extend(nums)\n",
    "\n",
    "ans = nums\n",
    "\n",
    "ans\n",
    "\n",
    "#SOLUTION : 2\n",
    "\n",
    "\n",
    "n=len(nums)\n",
    "ans = []\n",
    "for i in range(0,2*n):\n",
    "    if i<n:\n",
    "        ans.append(nums[i])\n",
    "    else:\n",
    "        ans.append(nums[i-n])\n",
    "\n",
    "\n",
    "\n",
    "#SOLUTION : 3 \n",
    "\n",
    "ans = nums*2 \n"
   ]
  },
  {
   "cell_type": "markdown",
   "id": "c7b7d39a",
   "metadata": {},
   "source": [
    "### 1672 : RICHEST CUSTOMER WEALTH"
   ]
  },
  {
   "cell_type": "code",
   "execution_count": 37,
   "id": "b0ff9edd",
   "metadata": {},
   "outputs": [
    {
     "data": {
      "text/plain": [
       "12"
      ]
     },
     "execution_count": 37,
     "metadata": {},
     "output_type": "execute_result"
    }
   ],
   "source": [
    "accounts = [[1,2,3],[3,2,1],[3,4,5]]\n",
    "\n",
    "highest_sum = 0\n",
    "\n",
    "for i in accounts :\n",
    "    \n",
    "    current_sum = sum(i)\n",
    "    \n",
    "    if highest_sum < current_sum :\n",
    "        \n",
    "        highest_sum = current_sum\n",
    "    \n",
    "\n",
    "highest_sum"
   ]
  },
  {
   "cell_type": "markdown",
   "id": "3b83cafb",
   "metadata": {},
   "source": [
    "### 1470 : SHUFFLE THE ARRAY"
   ]
  },
  {
   "cell_type": "code",
   "execution_count": 49,
   "id": "31ef5a2f",
   "metadata": {},
   "outputs": [
    {
     "name": "stdout",
     "output_type": "stream",
     "text": [
      "[2, 3, 5, 4, 1, 7]\n"
     ]
    }
   ],
   "source": [
    "import numpy as np \n",
    "\n",
    "\n",
    "nums = np.array([2,5,1,3,4,7])\n",
    "\n",
    "n = int(len(nums)/2)\n",
    "j = n\n",
    "a1 = []\n",
    "a2 = []\n",
    "for i in range(n) :\n",
    "    \n",
    "    a1.append(nums[i])\n",
    "    \n",
    "    a1.append(nums[j])\n",
    "    \n",
    "    j = j+1\n",
    "    \n",
    "print(a1)\n"
   ]
  },
  {
   "cell_type": "markdown",
   "id": "39b713cc",
   "metadata": {},
   "source": [
    "### MAXIMUM NUMBER OF WORDS FOUND IN A SENTENCE"
   ]
  },
  {
   "cell_type": "code",
   "execution_count": 6,
   "id": "46dd71d3",
   "metadata": {},
   "outputs": [
    {
     "name": "stdout",
     "output_type": "stream",
     "text": [
      "6\n"
     ]
    }
   ],
   "source": [
    "sentences = [\"alice and bob love leetcode\", \"i think so too\", \"this is great thanks very much\"]\n",
    "\n",
    "ans = []\n",
    "for i in sentences :\n",
    "    \n",
    "    ans.append(len(i.split()))\n",
    "    \n",
    "    \n",
    "print(max(ans))"
   ]
  },
  {
   "cell_type": "markdown",
   "id": "c016270c",
   "metadata": {},
   "source": [
    "### 1512 : NUMBER OF GOOD PAIRS IN A LIST"
   ]
  },
  {
   "cell_type": "code",
   "execution_count": 3,
   "id": "13449042",
   "metadata": {},
   "outputs": [
    {
     "data": {
      "text/plain": [
       "6"
      ]
     },
     "execution_count": 3,
     "metadata": {},
     "output_type": "execute_result"
    }
   ],
   "source": [
    "nums = [1,2,3,1,1,3,3]\n",
    "\n",
    "counter = 0\n",
    "dict = {}\n",
    "\n",
    "for i in nums :\n",
    "    if i in dict :\n",
    "        counter = counter + dict[i]\n",
    "        dict[i] = dict[i] + 1\n",
    "        \n",
    "    else :\n",
    "        dict[i] = 1\n",
    "counter"
   ]
  },
  {
   "cell_type": "markdown",
   "id": "bc870c79",
   "metadata": {},
   "source": [
    "### 771 : JEWELS AND STONES"
   ]
  },
  {
   "cell_type": "code",
   "execution_count": 22,
   "id": "4dc01374",
   "metadata": {},
   "outputs": [
    {
     "data": {
      "text/plain": [
       "0"
      ]
     },
     "execution_count": 22,
     "metadata": {},
     "output_type": "execute_result"
    }
   ],
   "source": [
    "jewels = 'z'\n",
    "\n",
    "stones = 'ZZZZ'\n",
    "\n",
    "jewels = list(jewels)\n",
    "stones = list(stones)\n",
    "\n",
    "count = 0\n",
    "\n",
    "for i in stones :\n",
    "    \n",
    "    if i in jewels :\n",
    "        \n",
    "        count = count + 1\n",
    "count\n"
   ]
  },
  {
   "cell_type": "code",
   "execution_count": 28,
   "id": "f8262c1e",
   "metadata": {},
   "outputs": [
    {
     "data": {
      "text/plain": [
       "3"
      ]
     },
     "execution_count": 28,
     "metadata": {},
     "output_type": "execute_result"
    }
   ],
   "source": [
    "jewels = 'aA'\n",
    "stones = 'aAAbbbb'\n",
    "count = 0\n",
    "for i in jewels :\n",
    "    \n",
    "    count = count + stones.count(i)\n",
    "count"
   ]
  },
  {
   "cell_type": "markdown",
   "id": "ce93e421",
   "metadata": {},
   "source": [
    "### 1431 : KIDS WITH GREATEST NUMBER OF CANDIES"
   ]
  },
  {
   "cell_type": "code",
   "execution_count": 20,
   "id": "8fdc69ef",
   "metadata": {},
   "outputs": [],
   "source": [
    "candies = [4,2,1,5,6,2]\n",
    "extraCandies = 2"
   ]
  },
  {
   "cell_type": "code",
   "execution_count": 21,
   "id": "ad1857b9",
   "metadata": {},
   "outputs": [
    {
     "data": {
      "text/plain": [
       "['true', 'false', 'false', 'true', 'true', 'false']"
      ]
     },
     "execution_count": 21,
     "metadata": {},
     "output_type": "execute_result"
    }
   ],
   "source": [
    "maxcandies = max(candies)\n",
    "ans = []\n",
    "\n",
    "\n",
    "for i in candies :\n",
    "    if i + extraCandies >= maxcandies :\n",
    "        \n",
    "        ans.append('true')\n",
    "        \n",
    "    else :\n",
    "        \n",
    "        ans.append('false')\n",
    "\n",
    "ans\n",
    "    \n",
    "\n"
   ]
  },
  {
   "cell_type": "markdown",
   "id": "4691f0d0",
   "metadata": {},
   "source": [
    "### 1281 : SUBTRACT THE PRODUCT AND SUM OF DIGITS OF AN INTEGER"
   ]
  },
  {
   "cell_type": "code",
   "execution_count": 69,
   "id": "df624b20",
   "metadata": {},
   "outputs": [],
   "source": [
    "n = 4421\n",
    "\n",
    "n = list(str(n))"
   ]
  },
  {
   "cell_type": "code",
   "execution_count": 71,
   "id": "8ce31434",
   "metadata": {
    "scrolled": false
   },
   "outputs": [
    {
     "data": {
      "text/plain": [
       "21"
      ]
     },
     "execution_count": 71,
     "metadata": {},
     "output_type": "execute_result"
    }
   ],
   "source": [
    "total = 0\n",
    "product = 1\n",
    "\n",
    "\n",
    "for i in n :\n",
    "    \n",
    "    total = total + int(i)\n",
    "\n",
    "\n",
    "\n",
    "for j in n :\n",
    "    \n",
    "    product = product * int(j)\n",
    "    \n",
    "product\n",
    "\n",
    "result = product - total\n",
    "result"
   ]
  },
  {
   "cell_type": "code",
   "execution_count": 102,
   "id": "e3726ce6",
   "metadata": {},
   "outputs": [
    {
     "data": {
      "text/plain": [
       "[4, 0, 1, 1, 3]"
      ]
     },
     "execution_count": 102,
     "metadata": {},
     "output_type": "execute_result"
    }
   ],
   "source": [
    "nums = [8,1,2,2,3]\n",
    "\n",
    "sort_nums = sorted(nums)\n",
    "res = []\n",
    "        \n",
    "for i in nums:\n",
    "    res.append(sort_nums.index(i))\n",
    "\n",
    "res\n",
    "    "
   ]
  },
  {
   "cell_type": "code",
   "execution_count": 103,
   "id": "a60d6be0",
   "metadata": {},
   "outputs": [
    {
     "data": {
      "text/plain": [
       "[1, 2, 2, 3, 8]"
      ]
     },
     "execution_count": 103,
     "metadata": {},
     "output_type": "execute_result"
    }
   ],
   "source": [
    "sort_nums"
   ]
  },
  {
   "cell_type": "markdown",
   "id": "d028dbe8",
   "metadata": {},
   "source": [
    "### 1678. GOAL PARSER"
   ]
  },
  {
   "cell_type": "code",
   "execution_count": 121,
   "id": "c787a9cf",
   "metadata": {},
   "outputs": [
    {
     "data": {
      "text/plain": [
       "'G()()()()(al)'"
      ]
     },
     "execution_count": 121,
     "metadata": {},
     "output_type": "execute_result"
    }
   ],
   "source": [
    "command = 'G()()()()(al)'\n",
    "\n",
    "command.replace('()' , 'o').replace('(al)' , 'al')\n",
    "\n",
    "command"
   ]
  },
  {
   "cell_type": "markdown",
   "id": "28ac0a7e",
   "metadata": {},
   "source": [
    "### 1342 : Number of Steps to Reduce a Number to Zero"
   ]
  },
  {
   "cell_type": "code",
   "execution_count": 135,
   "id": "744aa474",
   "metadata": {},
   "outputs": [
    {
     "data": {
      "text/plain": [
       "12"
      ]
     },
     "execution_count": 135,
     "metadata": {},
     "output_type": "execute_result"
    }
   ],
   "source": [
    "num = 123\n",
    "\n",
    "count1 = 0\n",
    "count2 = 0\n",
    "\n",
    "\n",
    "\n",
    "while num > 0 :\n",
    "    \n",
    "    if num % 2 == 0 :\n",
    "        \n",
    "        num = num / 2 \n",
    "        \n",
    "        count1 += 1\n",
    "        \n",
    "    else : \n",
    "        \n",
    "        num = num - 1\n",
    "        \n",
    "        count2 += 1\n",
    "        \n",
    "count1 + count2\n",
    "        \n"
   ]
  },
  {
   "cell_type": "markdown",
   "id": "31ad31bc",
   "metadata": {},
   "source": [
    "### 1528 : Shuffle String"
   ]
  },
  {
   "cell_type": "code",
   "execution_count": 176,
   "id": "aff4cb59",
   "metadata": {},
   "outputs": [
    {
     "data": {
      "text/plain": [
       "'leetcode'"
      ]
     },
     "execution_count": 176,
     "metadata": {},
     "output_type": "execute_result"
    }
   ],
   "source": [
    "indices = [4,5,6,7,0,2,1,3]\n",
    "\n",
    "s = \"codeleet\"\n",
    "\n",
    "ans = str()\n",
    "\n",
    "for i in range(len(indices)) : \n",
    "    \n",
    "    ans = ans + s[indices.index(i)]\n",
    "\n",
    "    \n",
    "ans"
   ]
  },
  {
   "cell_type": "markdown",
   "id": "00b0165c",
   "metadata": {},
   "source": [
    "### 1389 : Create Target Array in the Given Order"
   ]
  },
  {
   "cell_type": "code",
   "execution_count": 2,
   "id": "63440a62",
   "metadata": {},
   "outputs": [
    {
     "data": {
      "text/plain": [
       "[0, 4, 1, 3, 2]"
      ]
     },
     "execution_count": 2,
     "metadata": {},
     "output_type": "execute_result"
    }
   ],
   "source": [
    "nums = [0,1,2,3,4]\n",
    "index = [0,1,2,2,1]\n",
    "\n",
    "res = []\n",
    "for i in range(len(nums)):\n",
    "    res.insert(index[i], nums[i])\n",
    "    \n",
    "res"
   ]
  },
  {
   "cell_type": "markdown",
   "id": "91bcb1dc",
   "metadata": {},
   "source": [
    "### 1859. Sorting the Sentence"
   ]
  },
  {
   "cell_type": "code",
   "execution_count": 1,
   "id": "7a71b35f",
   "metadata": {},
   "outputs": [
    {
     "data": {
      "text/plain": [
       "'This is a sentence'"
      ]
     },
     "execution_count": 1,
     "metadata": {},
     "output_type": "execute_result"
    }
   ],
   "source": [
    "s = \"is2 sentence4 This1 a3\" \n",
    "\n",
    "word_list = sorted(s.split(), key = lambda s: s[-1])\n",
    "\n",
    "' '.join(i[:-1] for i in word_list)"
   ]
  },
  {
   "cell_type": "markdown",
   "id": "dd50042b",
   "metadata": {},
   "source": [
    "### 1221. Split a String in Balanced Strings"
   ]
  },
  {
   "cell_type": "code",
   "execution_count": 2,
   "id": "ac466fe8",
   "metadata": {},
   "outputs": [
    {
     "data": {
      "text/plain": [
       "2"
      ]
     },
     "execution_count": 2,
     "metadata": {},
     "output_type": "execute_result"
    }
   ],
   "source": [
    "s = \"RLRRRLLRLL\"\n",
    "\n",
    "a = 0\n",
    "b = 0\n",
    "c = 0\n",
    "\n",
    "for i in s :\n",
    "    \n",
    "    if i == 'R' :\n",
    "        a += 1\n",
    "        \n",
    "    if i == 'L' :\n",
    "        b += 1\n",
    "        \n",
    "    if a == b :\n",
    "        c += 1\n",
    "c"
   ]
  },
  {
   "cell_type": "markdown",
   "id": "2813a33f",
   "metadata": {},
   "source": [
    "### FIND IF THE DIGITS OF A NUMBER N EVENLY DIVIDES IT"
   ]
  },
  {
   "cell_type": "code",
   "execution_count": 65,
   "id": "f5842584",
   "metadata": {},
   "outputs": [],
   "source": [
    "\n",
    "class Solution:\n",
    "    def evenlyDivides (self, N):\n",
    "        ans = 0\n",
    "        num = N\n",
    "        while num > 0:\n",
    "            rem = num % 10\n",
    "            if rem > 0 and N % rem == 0:\n",
    "                ans+=1\n",
    "            num = num//10\n",
    "        return ans"
   ]
  },
  {
   "cell_type": "markdown",
   "id": "3219214c",
   "metadata": {},
   "source": [
    "### REVERSE AN INTEGER"
   ]
  },
  {
   "cell_type": "code",
   "execution_count": 64,
   "id": "ea916944",
   "metadata": {},
   "outputs": [
    {
     "data": {
      "text/plain": [
       "-6543"
      ]
     },
     "execution_count": 64,
     "metadata": {},
     "output_type": "execute_result"
    }
   ],
   "source": [
    "x = -3456\n",
    " \n",
    "result = 0\n",
    "\n",
    "if x < 0:\n",
    "    symbol = -1\n",
    "    x = -x\n",
    "    \n",
    "else:\n",
    "    symbol = 1\n",
    "\n",
    "while x:\n",
    "    digits = x % 10\n",
    "    result = result * 10 + digits\n",
    "    x //= 10\n",
    "\n",
    "result*symbol"
   ]
  },
  {
   "cell_type": "markdown",
   "id": "aa18c9b1",
   "metadata": {},
   "source": [
    "### CHECK IF NUMBER IS PALINDROME OR NOT"
   ]
  },
  {
   "cell_type": "code",
   "execution_count": 97,
   "id": "7db18b86",
   "metadata": {},
   "outputs": [
    {
     "name": "stdout",
     "output_type": "stream",
     "text": [
      "Number is a palindrome\n"
     ]
    }
   ],
   "source": [
    "n = 12121\n",
    "reverse_n = 0\n",
    "num = n\n",
    "\n",
    "while num > 0 :\n",
    "    digits = num % 10\n",
    "    reverse_n = reverse_n * 10 + digits\n",
    "    num = num // 10\n",
    "\n",
    "reverse_n\n",
    "\n",
    "if reverse_n == n :\n",
    "    print('Number is a palindrome')\n",
    "else :\n",
    "    print('NOT A PALINDROME')"
   ]
  },
  {
   "cell_type": "markdown",
   "id": "9cf962d6",
   "metadata": {},
   "source": [
    "### GCD AND LCM"
   ]
  },
  {
   "cell_type": "code",
   "execution_count": 161,
   "id": "1bab1dfb",
   "metadata": {},
   "outputs": [
    {
     "name": "stdout",
     "output_type": "stream",
     "text": [
      "HCF OR GCD : 4\n",
      "LCM : 24\n"
     ]
    }
   ],
   "source": [
    "a = 8\n",
    "b = 12\n",
    "ans = []\n",
    "\n",
    "for i in range(2,min(a,b)+1):\n",
    "    if a % i == 0 and b % i == 0 :\n",
    "        ans.append(i)\n",
    "        \n",
    "print('HCF OR GCD :', max(ans))\n",
    "print('LCM :', (a*b)//max(ans))"
   ]
  },
  {
   "cell_type": "markdown",
   "id": "20c10e73",
   "metadata": {},
   "source": [
    "### ARMSTRONG NUMBER"
   ]
  },
  {
   "cell_type": "code",
   "execution_count": 162,
   "id": "83c239cb",
   "metadata": {},
   "outputs": [
    {
     "name": "stdout",
     "output_type": "stream",
     "text": [
      "NUMBER IS AN ARMSTRONG NUMBER\n"
     ]
    }
   ],
   "source": [
    "n = 1634\n",
    "num = n\n",
    "\n",
    "sum = 0\n",
    "\n",
    "l = len(str(n))\n",
    "\n",
    "while num > 0 :\n",
    "    \n",
    "    digits = num % 10\n",
    "    sum = sum + digits ** l\n",
    "    num = num // 10\n",
    "\n",
    "if sum == n:\n",
    "    print('NUMBER IS AN ARMSTRONG NUMBER')\n",
    "else :\n",
    "    print('NOT AN ARMSTRONG NUMBER')"
   ]
  },
  {
   "cell_type": "markdown",
   "id": "ffeb3744",
   "metadata": {},
   "source": [
    "### PRINT ALL DIVISORS"
   ]
  },
  {
   "cell_type": "code",
   "execution_count": 1,
   "id": "877cda77",
   "metadata": {},
   "outputs": [
    {
     "name": "stdout",
     "output_type": "stream",
     "text": [
      "1\n",
      "2\n",
      "3\n",
      "4\n",
      "6\n",
      "9\n",
      "12\n",
      "18\n",
      "36\n"
     ]
    }
   ],
   "source": [
    "n = 36\n",
    "\n",
    "for i in range(1,n+1):\n",
    "    if n % i == 0:\n",
    "        print(i)\n"
   ]
  },
  {
   "cell_type": "markdown",
   "id": "18b7c60e",
   "metadata": {},
   "source": [
    "# RECURSION"
   ]
  },
  {
   "cell_type": "code",
   "execution_count": 3,
   "id": "490643e8",
   "metadata": {},
   "outputs": [
    {
     "name": "stdout",
     "output_type": "stream",
     "text": [
      "SANCHIT\n",
      "SANCHIT\n",
      "SANCHIT\n",
      "SANCHIT\n",
      "SANCHIT\n",
      "SANCHIT\n",
      "SANCHIT\n",
      "SANCHIT\n",
      "SANCHIT\n",
      "SANCHIT\n"
     ]
    }
   ],
   "source": [
    "def recur(n):\n",
    "    if n > 0 :\n",
    "        print('SANCHIT')\n",
    "        recur(n-1)\n",
    "        \n",
    "\n",
    "recur(10)"
   ]
  },
  {
   "cell_type": "code",
   "execution_count": 186,
   "id": "f1ab43c0",
   "metadata": {},
   "outputs": [
    {
     "name": "stdout",
     "output_type": "stream",
     "text": [
      "1\n",
      "2\n",
      "3\n",
      "4\n",
      "5\n",
      "6\n",
      "7\n",
      "8\n",
      "9\n",
      "10\n"
     ]
    }
   ],
   "source": [
    "def recur2(n):\n",
    "    if n <= 10:\n",
    "        print(n)\n",
    "        recur2(n+1)\n",
    "\n",
    "recur2(1)"
   ]
  },
  {
   "cell_type": "code",
   "execution_count": 131,
   "id": "6cae88fd",
   "metadata": {},
   "outputs": [
    {
     "data": {
      "text/plain": [
       "21"
      ]
     },
     "execution_count": 131,
     "metadata": {},
     "output_type": "execute_result"
    }
   ],
   "source": [
    "def sum_(n):\n",
    "    if n ==0:\n",
    "        return n\n",
    "    return n + sum_(n-1)\n",
    "    \n",
    "\n",
    "sum_(6)"
   ]
  },
  {
   "cell_type": "code",
   "execution_count": 133,
   "id": "8a67487e",
   "metadata": {},
   "outputs": [
    {
     "data": {
      "text/plain": [
       "24"
      ]
     },
     "execution_count": 133,
     "metadata": {},
     "output_type": "execute_result"
    }
   ],
   "source": [
    "def factorial(n):\n",
    "    if n ==0:\n",
    "        return \n",
    "    return n * recur3(n-1)\n",
    "\n",
    "recur3(4)"
   ]
  },
  {
   "cell_type": "markdown",
   "id": "8cbf8c45",
   "metadata": {},
   "source": [
    "### REVERSE AN ARRAY"
   ]
  },
  {
   "cell_type": "code",
   "execution_count": 15,
   "id": "50fcb04c",
   "metadata": {},
   "outputs": [
    {
     "data": {
      "text/plain": [
       "array([6, 5, 4, 3, 2, 1])"
      ]
     },
     "execution_count": 15,
     "metadata": {},
     "output_type": "execute_result"
    }
   ],
   "source": [
    "import numpy as np\n",
    "\n",
    "def swap(arr,l,r):\n",
    "    if l>=r:\n",
    "        return \n",
    "    else :\n",
    "        arr[l],arr[r] = arr[r],arr[l] \n",
    "        swap(arr,l+1,r-1)\n",
    "    \n",
    "\n",
    "A = np.array([1,2,3,4,5,6])\n",
    "\n",
    "swap(A,0,5)\n",
    "A"
   ]
  },
  {
   "cell_type": "markdown",
   "id": "91e052ef",
   "metadata": {},
   "source": [
    "### CHECK IF A STRING IS A PALINDROME OR NOT"
   ]
  },
  {
   "cell_type": "code",
   "execution_count": 180,
   "id": "e2879e9d",
   "metadata": {},
   "outputs": [],
   "source": [
    "def pal(i,s):\n",
    "    if i >= len(s)/2:\n",
    "        return True\n",
    "    if s[i] != s[len(s)-i-1]:\n",
    "        return False\n",
    "    return pal(i+1,s)"
   ]
  },
  {
   "cell_type": "code",
   "execution_count": 184,
   "id": "88202949",
   "metadata": {},
   "outputs": [
    {
     "data": {
      "text/plain": [
       "False"
      ]
     },
     "execution_count": 184,
     "metadata": {},
     "output_type": "execute_result"
    }
   ],
   "source": [
    "pal(0,'abcddcbe')"
   ]
  },
  {
   "cell_type": "markdown",
   "id": "ebe443bf",
   "metadata": {},
   "source": [
    "### FREQUENCY COUNT OF ELEMENTS"
   ]
  },
  {
   "cell_type": "code",
   "execution_count": 16,
   "id": "94fbdbe5",
   "metadata": {},
   "outputs": [
    {
     "name": "stdout",
     "output_type": "stream",
     "text": [
      "20 : 1\n",
      "40 : 1\n"
     ]
    }
   ],
   "source": [
    "a = np.array([10,20,10,40,10])\n",
    "\n",
    "dict = {}\n",
    "\n",
    "for i in a:\n",
    "    if i in dict:\n",
    "        dict[i] += 1\n",
    "    else:\n",
    "        dict[i] = 1\n",
    "        \n",
    "for key, value in dict.items():\n",
    "    if value == 1:\n",
    "        print(key,':',value)\n",
    "    \n",
    "    "
   ]
  },
  {
   "cell_type": "markdown",
   "id": "04de1d68",
   "metadata": {},
   "source": [
    "### SELECTION SORT"
   ]
  },
  {
   "cell_type": "code",
   "execution_count": 6,
   "id": "3467957e",
   "metadata": {},
   "outputs": [
    {
     "name": "stdout",
     "output_type": "stream",
     "text": [
      "[ 0  8 10  6  3  2]\n",
      "[ 0  8 10  6  3  2]\n",
      "[ 0  8 10  6  3  2]\n",
      "[ 0  8 10  6  3  2]\n",
      "[ 0  8 10  6  3  2]\n",
      "[ 0  8 10  6  3  2]\n",
      "[ 0  6 10  8  3  2]\n",
      "[ 0  3 10  8  6  2]\n",
      "[ 0  2 10  8  6  3]\n",
      "[ 0  2  8 10  6  3]\n",
      "[ 0  2  6 10  8  3]\n",
      "[ 0  2  3 10  8  6]\n",
      "[ 0  2  3  8 10  6]\n",
      "[ 0  2  3  6 10  8]\n",
      "[ 0  2  3  6  8 10]\n"
     ]
    }
   ],
   "source": [
    "b = np.array([8,0,10,6,3,2])\n",
    "\n",
    "for i in range(len(b)):\n",
    "    for j in range(i+1,len(b)):\n",
    "        \n",
    "        if b[j] < b[i]:\n",
    "            \n",
    "            b[i],b[j] = b[j],b[i]\n",
    "        print(b)"
   ]
  },
  {
   "cell_type": "markdown",
   "id": "3c1e261c",
   "metadata": {},
   "source": [
    "### BUBBLE SORT"
   ]
  },
  {
   "cell_type": "code",
   "execution_count": 28,
   "id": "de638bf0",
   "metadata": {},
   "outputs": [
    {
     "name": "stdout",
     "output_type": "stream",
     "text": [
      "[5 4 3 2 1]\n",
      "[4 5 3 2 1]\n",
      "[4 3 5 2 1]\n",
      "[4 3 2 5 1]\n",
      "[4 3 2 1 5]\n",
      "[3 4 2 1 5]\n",
      "[3 2 4 1 5]\n",
      "[3 2 1 4 5]\n",
      "[2 3 1 4 5]\n",
      "[2 1 3 4 5]\n",
      "[1 2 3 4 5]\n"
     ]
    }
   ],
   "source": [
    "b = np.array([5,4,3,2,1])\n",
    "print(b)\n",
    "\n",
    "for i in range(len(b)):\n",
    "    for j in range(len(b)-i-1):\n",
    "        if b[j] > b[j+1]:\n",
    "            b[j],b[j+1] = b[j+1],b[j]\n",
    "        print(b)"
   ]
  },
  {
   "cell_type": "markdown",
   "id": "13dfda73",
   "metadata": {},
   "source": [
    "### INSERTION SORT"
   ]
  },
  {
   "cell_type": "code",
   "execution_count": 31,
   "id": "f613f13a",
   "metadata": {},
   "outputs": [
    {
     "name": "stdout",
     "output_type": "stream",
     "text": [
      "[2 6 5 1 3 4]\n",
      "[2 6 5 1 3 4]\n",
      "[2 5 6 1 3 4]\n",
      "[1 2 5 6 3 4]\n",
      "[1 2 3 5 6 4]\n",
      "[1 2 3 4 5 6]\n"
     ]
    }
   ],
   "source": [
    "b = np.array([2,6,5,1,3,4])\n",
    "print(b)\n",
    "\n",
    "for i in range(1,len(b)):\n",
    "    j = i\n",
    "    while b[j-1] > b[j] and j > 0:\n",
    "        b[j-1],b[j] = b[j],b[j-1]\n",
    "        j -= 1\n",
    "    print(b)"
   ]
  },
  {
   "cell_type": "markdown",
   "id": "1a8cbd5a",
   "metadata": {},
   "source": [
    "### LARGEST AND SECOND LARGEST ELEMENT IN AN ARRAY"
   ]
  },
  {
   "cell_type": "code",
   "execution_count": 3,
   "id": "333c0e99",
   "metadata": {},
   "outputs": [
    {
     "name": "stdout",
     "output_type": "stream",
     "text": [
      "max 78\n",
      "second max 76\n"
     ]
    }
   ],
   "source": [
    "a = np.array([0,0,2,5,1,75,76,78])\n",
    "max = 0\n",
    "second_max = 0\n",
    "\n",
    "\n",
    "for i in range(len(a)):\n",
    "        if a[i] > max:\n",
    "            max = a[i]\n",
    "    \n",
    "\n",
    "for i in range(len(a)):\n",
    "    \n",
    "    if a[i] > second_max and a[i] != max:\n",
    "        second_max = a[i]\n",
    "            \n",
    "print('max', max)\n",
    "print('second max', second_max)\n",
    "        \n",
    "        "
   ]
  },
  {
   "cell_type": "markdown",
   "id": "8ddefbc5",
   "metadata": {},
   "source": [
    "### CHECK IF ARRAY IS SORTED OR NOT"
   ]
  },
  {
   "cell_type": "code",
   "execution_count": 12,
   "id": "dbb65982",
   "metadata": {},
   "outputs": [],
   "source": [
    "a = np.array([1,2,5,3,4])\n",
    "\n",
    "def sort(n):\n",
    "    for i in range(len(a)):\n",
    "        for j in range(i+1,len(a)):\n",
    "            if (a[j] < a[i]):\n",
    "                return False\n",
    "        \n",
    "    return True"
   ]
  },
  {
   "cell_type": "code",
   "execution_count": 13,
   "id": "67aa15ac",
   "metadata": {},
   "outputs": [
    {
     "data": {
      "text/plain": [
       "False"
      ]
     },
     "execution_count": 13,
     "metadata": {},
     "output_type": "execute_result"
    }
   ],
   "source": [
    "sort(a)"
   ]
  },
  {
   "cell_type": "markdown",
   "id": "2fe6b95c",
   "metadata": {},
   "source": [
    "### LEFT SHIFT BY ONE"
   ]
  },
  {
   "cell_type": "code",
   "execution_count": 76,
   "id": "16be98ac",
   "metadata": {},
   "outputs": [
    {
     "data": {
      "text/plain": [
       "[2, 3, 4, 5, 1]"
      ]
     },
     "execution_count": 76,
     "metadata": {},
     "output_type": "execute_result"
    }
   ],
   "source": [
    "b = [1,2,3,4,5]\n",
    "n = len(b)\n",
    "temp = b[0]\n",
    "\n",
    "for i in range(len(b)-1): \n",
    "    b[i] =b[i+1]\n",
    "    \n",
    "b[n-1] = temp\n",
    "\n",
    "b"
   ]
  },
  {
   "cell_type": "markdown",
   "id": "98358a7d",
   "metadata": {},
   "source": [
    "### RIGHT SHIFT BY ONE"
   ]
  },
  {
   "cell_type": "code",
   "execution_count": 111,
   "id": "e82a2417",
   "metadata": {},
   "outputs": [
    {
     "data": {
      "text/plain": [
       "[5, 1, 2, 3, 4]"
      ]
     },
     "execution_count": 111,
     "metadata": {},
     "output_type": "execute_result"
    }
   ],
   "source": [
    "b = [1,2,3,4,5]\n",
    "\n",
    "temp = b[4]\n",
    "\n",
    "for i in range(len(b)-1,0,-1):\n",
    "    b[i] = b[i-1]\n",
    "b[0] = temp\n",
    "b\n",
    "    "
   ]
  },
  {
   "cell_type": "markdown",
   "id": "53980dec",
   "metadata": {},
   "source": [
    "### PUSH ALL ZEROES TO THE BACK"
   ]
  },
  {
   "cell_type": "code",
   "execution_count": 129,
   "id": "16e60b37",
   "metadata": {},
   "outputs": [
    {
     "data": {
      "text/plain": [
       "[1, 2, 3, 4, 5, 0, 0, 0]"
      ]
     },
     "execution_count": 129,
     "metadata": {},
     "output_type": "execute_result"
    }
   ],
   "source": [
    "a = [1,0,2,0,3,4,0,5]\n",
    "\n",
    "n = len(a)\n",
    "\n",
    "count = 0\n",
    "\n",
    "for i in range(n):\n",
    "    \n",
    "    if a[i] != 0:\n",
    "        a[count] = a[i]\n",
    "        count += 1\n",
    "        \n",
    "while count < n :\n",
    "    a[count] = 0\n",
    "    count += 1\n",
    "    \n",
    "a\n",
    "        \n",
    "    "
   ]
  },
  {
   "cell_type": "markdown",
   "id": "f22fddd1",
   "metadata": {},
   "source": [
    "### PRINT OUT UNIQUE NUMBERS"
   ]
  },
  {
   "cell_type": "code",
   "execution_count": 53,
   "id": "4d21e05d",
   "metadata": {},
   "outputs": [
    {
     "data": {
      "text/plain": [
       "[1, 2, 3, 4, 5]"
      ]
     },
     "execution_count": 53,
     "metadata": {},
     "output_type": "execute_result"
    }
   ],
   "source": [
    "a = [1,2,3,4]\n",
    "b = [2,3,4,5]\n",
    "\n",
    "x = a+b\n",
    "ans = []\n",
    "for i in x :\n",
    "    if i not in ans:\n",
    "        ans.append(i)\n",
    "ans\n"
   ]
  },
  {
   "cell_type": "code",
   "execution_count": 67,
   "id": "98c4c400",
   "metadata": {},
   "outputs": [
    {
     "data": {
      "text/plain": [
       "[1, 2, 3, 4]"
      ]
     },
     "execution_count": 67,
     "metadata": {},
     "output_type": "execute_result"
    }
   ],
   "source": [
    "a = [1,2,3,4,4]\n",
    "\n",
    "ans = []\n",
    "\n",
    "for i in a:\n",
    "    if i not in ans:\n",
    "        ans.append(i)\n",
    "ans"
   ]
  },
  {
   "cell_type": "markdown",
   "id": "42b75adb",
   "metadata": {},
   "source": [
    "### PRINT ALL POSSIBLE SUBARRAYS"
   ]
  },
  {
   "cell_type": "code",
   "execution_count": 130,
   "id": "0d96c1ea",
   "metadata": {},
   "outputs": [
    {
     "name": "stdout",
     "output_type": "stream",
     "text": [
      "[1]\n",
      "[1, 2]\n",
      "[2]\n",
      "[1, 2, 3]\n",
      "[2, 3]\n",
      "[3]\n",
      "[1, 2, 3, 4]\n",
      "[2, 3, 4]\n",
      "[3, 4]\n",
      "[4]\n"
     ]
    }
   ],
   "source": [
    "a = [1,2,3,4]\n",
    "\n",
    "for i in range(len(a)+1):\n",
    "    for j in range(i):\n",
    "        print(a[j:i])"
   ]
  },
  {
   "cell_type": "markdown",
   "id": "f6037eb7",
   "metadata": {},
   "source": [
    "### PRINT ALL POSSIBLE SUBARRAYS OF A GIVEN LENGTH"
   ]
  },
  {
   "cell_type": "code",
   "execution_count": 132,
   "id": "8101d1b2",
   "metadata": {},
   "outputs": [
    {
     "name": "stdout",
     "output_type": "stream",
     "text": [
      "[1, 2] [2, 3] [3, 4] [4, 5] "
     ]
    }
   ],
   "source": [
    "a = [1,2,3,4,5]\n",
    "k = 2\n",
    "n = len(a)\n",
    "ans = []\n",
    "for i in range(n-k+1):\n",
    "    print(a[i:i+k], end = ' ')\n"
   ]
  },
  {
   "cell_type": "markdown",
   "id": "9915d0b5",
   "metadata": {},
   "source": [
    "### PRINT SUM OF ALL SUBARRAYS OF A GIVEN LENGTH"
   ]
  },
  {
   "cell_type": "code",
   "execution_count": 133,
   "id": "fc630dfd",
   "metadata": {},
   "outputs": [
    {
     "data": {
      "text/plain": [
       "[3, 5, 7, 9]"
      ]
     },
     "execution_count": 133,
     "metadata": {},
     "output_type": "execute_result"
    }
   ],
   "source": [
    "ans = []\n",
    "for i in range(n - k + 1):\n",
    "    sum = 0\n",
    "    for j in range(i, k + i):\n",
    "        sum += a[j]\n",
    "    ans.append(sum)\n",
    "ans\n",
    "  "
   ]
  },
  {
   "cell_type": "markdown",
   "id": "63b2343d",
   "metadata": {},
   "source": [
    "### PRINT MAXIMUM SUM FROM SUBARRAYS OF A GIVEN LENGTH"
   ]
  },
  {
   "cell_type": "code",
   "execution_count": 1,
   "id": "fdad8428",
   "metadata": {},
   "outputs": [
    {
     "data": {
      "text/plain": [
       "9"
      ]
     },
     "execution_count": 1,
     "metadata": {},
     "output_type": "execute_result"
    }
   ],
   "source": [
    "arr = [1,2,3,4,5]\n",
    "n = len(arr)\n",
    "k = 2\n",
    "\n",
    "window_sum = sum(arr[:k])\n",
    "\n",
    "  \n",
    "\n",
    "max_sum = window_sum\n",
    "  \n",
    "for i in range(n - k):\n",
    "    window_sum = window_sum - arr[i] + arr[i + k]\n",
    "    max_sum = max(window_sum, max_sum)\n",
    "    \n",
    "max_sum"
   ]
  },
  {
   "cell_type": "code",
   "execution_count": 13,
   "id": "d69c0336",
   "metadata": {},
   "outputs": [
    {
     "data": {
      "text/plain": [
       "2.0"
      ]
     },
     "execution_count": 13,
     "metadata": {},
     "output_type": "execute_result"
    }
   ],
   "source": [
    "a = [1,5,3,4]\n",
    "n = 5\n",
    "\n",
    "sumtotal = (n*(n+1))/2\n",
    "sumtotal\n",
    "\n",
    "sum_a = 0\n",
    "\n",
    "for i in a:\n",
    "    sum_a = sum_a + i\n",
    "sum_a\n",
    "\n",
    "missing_num = sumtotal - sum_a\n",
    "\n",
    "missing_num"
   ]
  },
  {
   "cell_type": "code",
   "execution_count": null,
   "id": "c7f16b0e",
   "metadata": {},
   "outputs": [],
   "source": []
  }
 ],
 "metadata": {
  "kernelspec": {
   "display_name": "Python 3 (ipykernel)",
   "language": "python",
   "name": "python3"
  },
  "language_info": {
   "codemirror_mode": {
    "name": "ipython",
    "version": 3
   },
   "file_extension": ".py",
   "mimetype": "text/x-python",
   "name": "python",
   "nbconvert_exporter": "python",
   "pygments_lexer": "ipython3",
   "version": "3.10.5"
  }
 },
 "nbformat": 4,
 "nbformat_minor": 5
}
